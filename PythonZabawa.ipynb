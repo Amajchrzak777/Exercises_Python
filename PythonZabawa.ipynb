{
 "cells": [
  {
   "cell_type": "code",
   "execution_count": 1,
   "metadata": {},
   "outputs": [
    {
     "name": "stdout",
     "output_type": "stream",
     "text": [
      "100\n",
      "99\n",
      "98\n",
      "97\n",
      "96\n",
      "95\n",
      "94\n",
      "93\n",
      "92\n",
      "91\n",
      "90\n",
      "89\n",
      "88\n",
      "87\n",
      "86\n",
      "85\n",
      "84\n",
      "83\n",
      "82\n",
      "81\n",
      "80\n",
      "79\n",
      "78\n",
      "77\n",
      "76\n",
      "75\n",
      "74\n",
      "73\n",
      "72\n",
      "71\n",
      "70\n",
      "69\n",
      "68\n",
      "67\n",
      "66\n",
      "65\n",
      "64\n",
      "63\n",
      "62\n",
      "61\n",
      "60\n",
      "59\n",
      "58\n",
      "57\n",
      "56\n",
      "55\n",
      "54\n",
      "53\n",
      "52\n",
      "51\n",
      "50\n",
      "49\n",
      "48\n",
      "47\n",
      "46\n",
      "45\n",
      "44\n",
      "43\n",
      "42\n",
      "41\n",
      "40\n",
      "39\n",
      "38\n",
      "37\n",
      "36\n",
      "35\n",
      "34\n",
      "33\n",
      "32\n",
      "31\n",
      "30\n",
      "29\n",
      "28\n",
      "27\n",
      "26\n",
      "25\n",
      "24\n",
      "23\n",
      "22\n",
      "21\n",
      "20\n",
      "19\n",
      "18\n",
      "17\n",
      "16\n",
      "15\n",
      "14\n",
      "13\n",
      "12\n",
      "11\n",
      "10\n",
      "9\n",
      "8\n",
      "7\n",
      "6\n",
      "5\n",
      "4\n",
      "3\n",
      "2\n",
      "1\n",
      "0\n"
     ]
    }
   ],
   "source": [
    "liczba = 100\n",
    "\n",
    "while liczba >= 0:\n",
    "    print(liczba)\n",
    "    liczba -= 1"
   ]
  },
  {
   "cell_type": "code",
   "execution_count": 4,
   "metadata": {
    "scrolled": true
   },
   "outputs": [
    {
     "name": "stdout",
     "output_type": "stream",
     "text": [
      "Podaj liczbe: 2\n",
      "Podaj liczbe: 5\n",
      "Podaj liczbe: 6\n",
      "Podaj liczbe: 7\n",
      "Podaj liczbe: 8\n",
      "Wynik dodawania wynosi:  28\n"
     ]
    }
   ],
   "source": [
    "sum = 0\n",
    "i = 0\n",
    "while i < 5:\n",
    "    x = int(input(\"Podaj liczbe: \"))\n",
    "    sum += x\n",
    "    i += 1\n",
    "\n",
    "print(\"Wynik dodawania wynosi: \",sum)"
   ]
  },
  {
   "cell_type": "code",
   "execution_count": null,
   "metadata": {},
   "outputs": [],
   "source": [
    "sum = 0\n",
    "\n",
    "for i in range(4):\n",
    "    x = int(input(\"Podaj liczbe: \"))\n",
    "    sum += x\n",
    "    i += 1\n",
    "    print(i)\n",
    "    if(i % 2 == 0):\n",
    "        print(\"liczba\", i, \"jest parzysta\")\n",
    "print(\"Wynik dodawania wynosi: \",sum)"
   ]
  },
  {
   "cell_type": "markdown",
   "metadata": {},
   "source": []
  },
  {
   "cell_type": "code",
   "execution_count": null,
   "metadata": {},
   "outputs": [],
   "source": [
    "wynik = 0\n",
    "i = 0\n",
    "while i <= 3:\n",
    "    x = int(input(\"Podaj liczbe: \"))\n",
    "    if(x > 0):\n",
    "        wynik += x\n",
    "    else:\n",
    "        print(\"Miała być to liczba dodatnia, popraw się!\")\n",
    "        continue\n",
    "    print(\"aktualny wynik dodawania\",wynik)\n",
    "    i += 1"
   ]
  },
  {
   "cell_type": "code",
   "execution_count": null,
   "metadata": {},
   "outputs": [],
   "source": []
  },
  {
   "cell_type": "code",
   "execution_count": 1,
   "metadata": {},
   "outputs": [
    {
     "name": "stdout",
     "output_type": "stream",
     "text": [
      "Podaj liczbe: -5\n",
      "Miała być to liczba dodatnia, popraw się!\n",
      "Podaj liczbe: 24\n",
      "aktualny wynik dodawania 24\n",
      "Podaj liczbe: 521\n",
      "aktualny wynik dodawania 545\n",
      "Podaj liczbe: 42\n",
      "aktualny wynik dodawania 587\n",
      "Podaj liczbe: 24\n",
      "aktualny wynik dodawania 611\n"
     ]
    }
   ],
   "source": [
    "wynik = 0\n",
    "i = 0\n",
    "while i <= 3:\n",
    "    x = int(input(\"Podaj liczbe: \"))\n",
    "    if(x > 0):\n",
    "        wynik += x\n",
    "    else:\n",
    "        print(\"Miała być to liczba dodatnia, popraw się!\")\n",
    "        continue\n",
    "    print(\"aktualny wynik dodawania\",wynik)\n",
    "    i += 1"
   ]
  },
  {
   "cell_type": "code",
   "execution_count": 3,
   "metadata": {},
   "outputs": [
    {
     "name": "stdout",
     "output_type": "stream",
     "text": [
      "Podaj liczbe parzysta: 13\n",
      "Podales liczbe nieparzysta, popraw sie\n",
      "Podaj liczbe parzysta: 12\n",
      "Podaj liczbe parzysta: 5\n",
      "Podales liczbe nieparzysta, popraw sie\n",
      "Podaj liczbe parzysta: 6\n",
      "Podaj liczbe parzysta: 2\n",
      "wynik dodawania wynosi 20\n"
     ]
    }
   ],
   "source": [
    "#Program dodaje 3 kolejne parzyste liczby, następnie wyświetla wynik\n",
    "\n",
    "wynik = 0\n",
    "i = 0\n",
    "\n",
    "while i < 3:\n",
    "    x = int(input(\"Podaj liczbe parzysta: \"))\n",
    "    if(not(x%2==0)):\n",
    "        print(\"Podales liczbe nieparzysta, popraw sie\")\n",
    "        continue\n",
    "    wynik += x\n",
    "    i += 1\n",
    "    \n",
    "print(\"wynik dodawania wynosi\",wynik)\n"
   ]
  },
  {
   "cell_type": "code",
   "execution_count": 2,
   "metadata": {},
   "outputs": [
    {
     "name": "stdout",
     "output_type": "stream",
     "text": [
      "liczba ktorej szukam: 50\n",
      "1\n",
      "Strzał4\n",
      "to za malo\n",
      "2\n",
      "Strzał50\n",
      "Udalo sie!!!\n",
      "Koniec\n"
     ]
    }
   ],
   "source": [
    "szukana = int(input(\"liczba ktorej szukam: \"))\n",
    "i = 0\n",
    "while (True):\n",
    "    i += 1\n",
    "    print(i)\n",
    "    strzal = int(input(\"Strzał\"))\n",
    "    if (strzal > szukana):\n",
    "        print(\"to za duzo\")\n",
    "    elif (strzal < szukana):\n",
    "        print(\"to za malo\")\n",
    "    else:\n",
    "        print(\"Udalo sie!!!\")\n",
    "        break\n",
    "\n",
    "print(\"Koniec\")\n"
   ]
  },
  {
   "cell_type": "code",
   "execution_count": 3,
   "metadata": {},
   "outputs": [],
   "source": [
    "#LISTY"
   ]
  },
  {
   "cell_type": "code",
   "execution_count": 14,
   "metadata": {},
   "outputs": [
    {
     "name": "stdout",
     "output_type": "stream",
     "text": [
      "['arkadiusz', 'wioletta', 'Karol']\n",
      "Cześć AREK\n",
      "[4, 2, 5, 6, 5, 1, 54, -2, 20]\n"
     ]
    }
   ],
   "source": [
    "imiona = [\"arkadiusz\", \"wioletta\", \"Karol\",] # 3 el.\n",
    "liczby = [1, 54, -2, 20]\n",
    "mieszana = [1, 'a', 52, 'kk']\n",
    "\n",
    "print(imiona)\n",
    "if(\"arkadiusz\" in imiona):\n",
    "    print(\"Cześć AREK\")\n",
    "if(-2 not in liczby):\n",
    "    print(\"Nie ma liczby 2\")\n",
    "    \n",
    "print([4,2,5,6,5]+liczby)"
   ]
  },
  {
   "cell_type": "code",
   "execution_count": 41,
   "metadata": {},
   "outputs": [
    {
     "name": "stdout",
     "output_type": "stream",
     "text": [
      "5\n",
      "3\n",
      "[54, 1, -2, 20, 1, 4]\n",
      "2\n",
      "[54, 20, 16, 15, 14, 4, 2, 1, 1, -2]\n",
      "54\n",
      "-2\n",
      "1\n",
      "[2, 4, 14, 15, 16, 20, 54]\n"
     ]
    }
   ],
   "source": [
    "#len() - długość\n",
    "#.append - dodać\n",
    "#.extend - rozszerzyć\n",
    "#.insert(index, co) - wstawić\n",
    "#.index - indeks danego el.\n",
    "#sort(reverse=False) - sortuj rosnąco\n",
    "#max()\n",
    "#min()\n",
    "#.count - ile razy coś wystąpi\n",
    "#.pop - usuń ostatni element\n",
    "#.remove - usuń pierwsze wystąpienie\n",
    "#.clear - wyczyść listę\n",
    "#.reverse - zamień kolejność\n",
    "\n",
    "lista1 = [54, 1, -2, 20, 1]\n",
    "lista2 = [\"Arkadiusz\", \"Wioletta\"]\n",
    "\n",
    "print(len(lista1))\n",
    "print(len(imiona))\n",
    "lista1.append(4)\n",
    "print(lista1)\n",
    "lista1.extend([2,14,15,16])\n",
    "lista2.insert(1, \"Kuba\")\n",
    "\n",
    "\n",
    "print(lista1.index(-2))\n",
    "lista1.sort(reverse=True)\n",
    "print(lista1)\n",
    "print(max(lista1))\n",
    "print(min(lista1))\n",
    "print(lista1.count(54))\n",
    "\n",
    "lista1.pop()\n",
    "lista1.pop()\n",
    "lista1.remove(1)\n",
    "lista1.reverse()\n",
    "print(lista1)"
   ]
  },
  {
   "cell_type": "code",
   "execution_count": 42,
   "metadata": {},
   "outputs": [
    {
     "name": "stdout",
     "output_type": "stream",
     "text": [
      "1\n"
     ]
    }
   ],
   "source": [
    "#KROTKA\n",
    "krotka = (1, 42, 12, -4)\n",
    "\n",
    "print(krotka[0])"
   ]
  },
  {
   "cell_type": "code",
   "execution_count": 45,
   "metadata": {},
   "outputs": [],
   "source": [
    "# dictionary - słownik Klucz - Wartość\n",
    "pokoje = {49: 'Arkadiusz Włodarczyk', 69: 'Wioletta Włodarczyk', 50: 'Adam Majchrzak'}\n",
    "\n"
   ]
  },
  {
   "cell_type": "code",
   "execution_count": 46,
   "metadata": {},
   "outputs": [
    {
     "data": {
      "text/plain": [
       "{49: 'Arkadiusz Włodarczyk', 69: 'Wioletta Włodarczyk', 50: 'Adam Majchrzak'}"
      ]
     },
     "execution_count": 46,
     "metadata": {},
     "output_type": "execute_result"
    }
   ],
   "source": [
    "pokoje"
   ]
  },
  {
   "cell_type": "code",
   "execution_count": 47,
   "metadata": {},
   "outputs": [],
   "source": [
    "pokoje[49] = 'Jan'"
   ]
  },
  {
   "cell_type": "code",
   "execution_count": 48,
   "metadata": {},
   "outputs": [
    {
     "data": {
      "text/plain": [
       "{49: 'Jan', 69: 'Wioletta Włodarczyk', 50: 'Adam Majchrzak'}"
      ]
     },
     "execution_count": 48,
     "metadata": {},
     "output_type": "execute_result"
    }
   ],
   "source": [
    "pokoje"
   ]
  },
  {
   "cell_type": "code",
   "execution_count": 49,
   "metadata": {},
   "outputs": [],
   "source": [
    "pokoje[51] = 'Karol'"
   ]
  },
  {
   "cell_type": "code",
   "execution_count": 50,
   "metadata": {},
   "outputs": [
    {
     "data": {
      "text/plain": [
       "{49: 'Jan', 69: 'Wioletta Włodarczyk', 50: 'Adam Majchrzak', 51: 'Karol'}"
      ]
     },
     "execution_count": 50,
     "metadata": {},
     "output_type": "execute_result"
    }
   ],
   "source": [
    "pokoje"
   ]
  },
  {
   "cell_type": "code",
   "execution_count": 51,
   "metadata": {},
   "outputs": [
    {
     "data": {
      "text/plain": [
       "{'imie': 'Arkadiusz', 'nazwisko': 'Wlodarczyk'}"
      ]
     },
     "execution_count": 51,
     "metadata": {},
     "output_type": "execute_result"
    }
   ],
   "source": [
    "a = {'imie': 'Arkadiusz','nazwisko': 'Wlodarczyk'}\n",
    "a"
   ]
  },
  {
   "cell_type": "code",
   "execution_count": 52,
   "metadata": {},
   "outputs": [
    {
     "data": {
      "text/plain": [
       "'Jan'"
      ]
     },
     "execution_count": 52,
     "metadata": {},
     "output_type": "execute_result"
    }
   ],
   "source": [
    "pokoje.get(49)"
   ]
  },
  {
   "cell_type": "code",
   "execution_count": 53,
   "metadata": {},
   "outputs": [],
   "source": [
    "pokoje[555] = 'ktosik'"
   ]
  },
  {
   "cell_type": "code",
   "execution_count": 54,
   "metadata": {},
   "outputs": [
    {
     "data": {
      "text/plain": [
       "{49: 'Jan',\n",
       " 69: 'Wioletta Włodarczyk',\n",
       " 50: 'Adam Majchrzak',\n",
       " 51: 'Karol',\n",
       " 555: 'ktosik'}"
      ]
     },
     "execution_count": 54,
     "metadata": {},
     "output_type": "execute_result"
    }
   ],
   "source": [
    "pokoje"
   ]
  },
  {
   "cell_type": "code",
   "execution_count": 55,
   "metadata": {},
   "outputs": [],
   "source": [
    "pokoje.update({400: 'Jasiu'})"
   ]
  },
  {
   "cell_type": "code",
   "execution_count": 56,
   "metadata": {},
   "outputs": [
    {
     "data": {
      "text/plain": [
       "{49: 'Jan',\n",
       " 69: 'Wioletta Włodarczyk',\n",
       " 50: 'Adam Majchrzak',\n",
       " 51: 'Karol',\n",
       " 555: 'ktosik',\n",
       " 400: 'Jasiu'}"
      ]
     },
     "execution_count": 56,
     "metadata": {},
     "output_type": "execute_result"
    }
   ],
   "source": [
    "pokoje"
   ]
  },
  {
   "cell_type": "code",
   "execution_count": 57,
   "metadata": {},
   "outputs": [],
   "source": [
    "del(pokoje[555])"
   ]
  },
  {
   "cell_type": "code",
   "execution_count": 58,
   "metadata": {},
   "outputs": [
    {
     "data": {
      "text/plain": [
       "{49: 'Jan',\n",
       " 69: 'Wioletta Włodarczyk',\n",
       " 50: 'Adam Majchrzak',\n",
       " 51: 'Karol',\n",
       " 400: 'Jasiu'}"
      ]
     },
     "execution_count": 58,
     "metadata": {},
     "output_type": "execute_result"
    }
   ],
   "source": [
    "pokoje"
   ]
  },
  {
   "cell_type": "code",
   "execution_count": 59,
   "metadata": {},
   "outputs": [
    {
     "data": {
      "text/plain": [
       "{49: 'Jan', 69: 'Wioletta Włodarczyk', 50: 'Adam Majchrzak', 51: 'Karol'}"
      ]
     },
     "execution_count": 59,
     "metadata": {},
     "output_type": "execute_result"
    }
   ],
   "source": [
    "pokoje.pop(400)\n",
    "pokoje"
   ]
  },
  {
   "cell_type": "code",
   "execution_count": 60,
   "metadata": {},
   "outputs": [
    {
     "data": {
      "text/plain": [
       "(51, 'Karol')"
      ]
     },
     "execution_count": 60,
     "metadata": {},
     "output_type": "execute_result"
    }
   ],
   "source": [
    "pokoje.popitem()"
   ]
  },
  {
   "cell_type": "code",
   "execution_count": 61,
   "metadata": {},
   "outputs": [
    {
     "data": {
      "text/plain": [
       "3"
      ]
     },
     "execution_count": 61,
     "metadata": {},
     "output_type": "execute_result"
    }
   ],
   "source": [
    "len(pokoje)"
   ]
  },
  {
   "cell_type": "code",
   "execution_count": 63,
   "metadata": {},
   "outputs": [],
   "source": [
    "pokoje.clear()"
   ]
  },
  {
   "cell_type": "code",
   "execution_count": 64,
   "metadata": {},
   "outputs": [
    {
     "data": {
      "text/plain": [
       "{}"
      ]
     },
     "execution_count": 64,
     "metadata": {},
     "output_type": "execute_result"
    }
   ],
   "source": [
    "pokoje"
   ]
  },
  {
   "cell_type": "code",
   "execution_count": null,
   "metadata": {},
   "outputs": [],
   "source": []
  }
 ],
 "metadata": {
  "kernelspec": {
   "display_name": "Python 3",
   "language": "python",
   "name": "python3"
  },
  "language_info": {
   "codemirror_mode": {
    "name": "ipython",
    "version": 3
   },
   "file_extension": ".py",
   "mimetype": "text/x-python",
   "name": "python",
   "nbconvert_exporter": "python",
   "pygments_lexer": "ipython3",
   "version": "3.7.4"
  }
 },
 "nbformat": 4,
 "nbformat_minor": 2
}
