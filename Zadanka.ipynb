{
 "cells": [
  {
   "cell_type": "code",
   "execution_count": 21,
   "metadata": {},
   "outputs": [
    {
     "name": "stdout",
     "output_type": "stream",
     "text": [
      "9.000000318337698e-07\n",
      "5.000001692678779e-07\n",
      "5.000001692678779e-07\n",
      "5.000001692678779e-07\n",
      "3.999998625658918e-07\n"
     ]
    }
   ],
   "source": [
    "#MOJE_FUNKCJE\n",
    "import time\n",
    "\n",
    "def sumaLiczb(n):\n",
    "    i = 0\n",
    "    suma = 0\n",
    "    while(i<n):\n",
    "        i += 1\n",
    "        suma += i\n",
    "    return suma\n",
    "\n",
    "def sumaLiczb2(n):\n",
    "    return sum([n for n in range(1,n+1)])\n",
    "\n",
    "def sumaLiczb3(n):\n",
    "    return sum({n for n in range(1,n+1)})\n",
    "\n",
    "def sumaLiczb4(n):\n",
    "    return sum((n for n in range(1,n+1))) \n",
    "\n",
    "def sumaLiczb5(liczba):\n",
    "    return (1+liczba)/2*liczba\n",
    "\n",
    "def finishTime(start):\n",
    "    end = time.perf_counter()\n",
    "    return end-start\n",
    "\n",
    "def functionPerformance(func, arg):\n",
    "    start = time.perf_counter()\n",
    "    func(arg)\n",
    "    end = time.perf_counter()\n",
    "    return end - start\n",
    "\n",
    "def showMessage(message):\n",
    "    print(message)\n",
    "    \n",
    "print(functionPerformance(sumaLiczb,500000))\n",
    "print(functionPerformance(sumaLiczb2,500000))\n",
    "print(functionPerformance(sumaLiczb3,500000))\n",
    "print(functionPerformance(sumaLiczb4,500000))\n",
    "print(functionPerformance(sumaLiczb5,500000))"
   ]
  },
  {
   "cell_type": "code",
   "execution_count": 23,
   "metadata": {},
   "outputs": [
    {
     "data": {
      "text/plain": [
       "5"
      ]
     },
     "execution_count": 23,
     "metadata": {},
     "output_type": "execute_result"
    }
   ],
   "source": [
    "#DOMYYŚLNE ARGUMENTY\n",
    "\n",
    "def increment(x, amount = 1):\n",
    "    return x+amount\n",
    "\n",
    "increment(4)"
   ]
  },
  {
   "cell_type": "code",
   "execution_count": null,
   "metadata": {},
   "outputs": [],
   "source": []
  }
 ],
 "metadata": {
  "kernelspec": {
   "display_name": "Python 3",
   "language": "python",
   "name": "python3"
  },
  "language_info": {
   "codemirror_mode": {
    "name": "ipython",
    "version": 3
   },
   "file_extension": ".py",
   "mimetype": "text/x-python",
   "name": "python",
   "nbconvert_exporter": "python",
   "pygments_lexer": "ipython3",
   "version": "3.7.4"
  }
 },
 "nbformat": 4,
 "nbformat_minor": 2
}
