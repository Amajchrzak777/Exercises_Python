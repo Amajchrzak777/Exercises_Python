{
 "cells": [
  {
   "cell_type": "code",
   "execution_count": 19,
   "metadata": {},
   "outputs": [
    {
     "name": "stdout",
     "output_type": "stream",
     "text": [
      "tararara\n",
      "2.0\n",
      "27\n"
     ]
    },
    {
     "data": {
      "text/plain": [
       "mpf('1.7320508075688772')"
      ]
     },
     "execution_count": 19,
     "metadata": {},
     "output_type": "execute_result"
    }
   ],
   "source": [
    "from mpmath import *\n",
    "imie = 3\n",
    "print(\"tararara\")\n",
    "print(sqrt(4))\n",
    "print(pow(imie,3))\n",
    "sqrt(imie)"
   ]
  },
  {
   "cell_type": "code",
   "execution_count": 65,
   "metadata": {},
   "outputs": [
    {
     "name": "stdout",
     "output_type": "stream",
     "text": [
      "pierwsza liczba: 10\n",
      "druga liczba: 2\n",
      "1-mnożenie, 2-dzielenie, 3-dodawanie, 4-odejmowanie, 5-reszta z dzielenia\n",
      "wybierz operacje z zakresu 1..5!\n",
      "5\n",
      "0\n"
     ]
    }
   ],
   "source": [
    "a = int(input(\"pierwsza liczba: \"))\n",
    "b = int(input(\"druga liczba: \"))\n",
    "print(\"1-mnożenie, 2-dzielenie, 3-dodawanie, 4-odejmowanie, 5-reszta z dzielenia\")\n",
    "wybor = int(input(\"wybierz operacje z zakresu 1..5!\\n\"))\n",
    "if(wybor==1):\n",
    "    print(a*b)\n",
    "elif(wybor==2):\n",
    "    if(b==0):\n",
    "        print(\"NIE DZIEL PRZEZ 0\")\n",
    "    else:\n",
    "        print(a/b)\n",
    "elif(wybor==3):\n",
    "    print(a+b)\n",
    "elif(wybor==4):\n",
    "    print(a-b)\n",
    "elif(wybor==5):\n",
    "    print(a%b)\n",
    "else:\n",
    "    print(\"Nie wybrałeś liczby z zakresu 1..5\")"
   ]
  },
  {
   "cell_type": "code",
   "execution_count": 63,
   "metadata": {},
   "outputs": [
    {
     "name": "stdout",
     "output_type": "stream",
     "text": [
      "arkadiusz ARKADIUSZ\n"
     ]
    }
   ],
   "source": [
    "imiePoZmianie = imie.upper()\n",
    "print(imie,imiePoZmianie)"
   ]
  },
  {
   "cell_type": "code",
   "execution_count": 40,
   "metadata": {},
   "outputs": [
    {
     "name": "stdout",
     "output_type": "stream",
     "text": [
      "Kalkulator: \n",
      "Podaj pierwszą liczbę: 15\n",
      "Podajj drugą liczbę: 5\n",
      "wynik dodawania: 20\n"
     ]
    }
   ],
   "source": [
    "print('Kalkulator: ')\n",
    "\n",
    "a = int(input(\"Podaj pierwszą liczbę: \"))\n",
    "b = int(input(\"Podajj drugą liczbę: \"))\n",
    "print('wynik dodawania: '+ str(a + b))"
   ]
  },
  {
   "cell_type": "code",
   "execution_count": 41,
   "metadata": {},
   "outputs": [
    {
     "data": {
      "text/plain": [
       "'operatory'"
      ]
     },
     "execution_count": 41,
     "metadata": {},
     "output_type": "execute_result"
    }
   ],
   "source": [
    "'''operatory'''"
   ]
  },
  {
   "cell_type": "code",
   "execution_count": 44,
   "metadata": {},
   "outputs": [
    {
     "data": {
      "text/plain": [
       "True"
      ]
     },
     "execution_count": 44,
     "metadata": {},
     "output_type": "execute_result"
    }
   ],
   "source": [
    "5>4\n",
    "3>3\n",
    "3<4"
   ]
  },
  {
   "cell_type": "code",
   "execution_count": 46,
   "metadata": {},
   "outputs": [
    {
     "name": "stdout",
     "output_type": "stream",
     "text": [
      "3>4\n"
     ]
    }
   ],
   "source": [
    "a = input()"
   ]
  },
  {
   "cell_type": "code",
   "execution_count": 48,
   "metadata": {},
   "outputs": [
    {
     "data": {
      "text/plain": [
       "'Instukcje warunkowe: '"
      ]
     },
     "execution_count": 48,
     "metadata": {},
     "output_type": "execute_result"
    }
   ],
   "source": [
    "'''Instukcje warunkowe: '''"
   ]
  },
  {
   "cell_type": "code",
   "execution_count": 60,
   "metadata": {},
   "outputs": [
    {
     "name": "stdout",
     "output_type": "stream",
     "text": [
      "1 - mnozenie, 2 - dzielic, 3 - dodawac, 4-odejmowac2\n",
      "5\n",
      "3\n",
      "1.6666666666666667\n"
     ]
    }
   ],
   "source": [
    "from mpmath import *\n",
    "wybor = input(\"1 - mnozenie, 2 - dzielic, 3 - dodawac, 4-odejmowac\")\n",
    "\n",
    "a = int(input())\n",
    "b = int(input())\n",
    "\n",
    "if(wybor=='1'):\n",
    "    print(a*b)\n",
    "elif(wybor=='2'):\n",
    "    if(b==0):\n",
    "        print(\"cholero nie dziel przez 0\")\n",
    "    else:\n",
    "        print(a/b)\n",
    "elif(wybor=='3'):\n",
    "    print(a+b)\n",
    "elif(wybor=='4'):\n",
    "    print(a-b)\n",
    "else:\n",
    "    print('blad')"
   ]
  },
  {
   "cell_type": "code",
   "execution_count": 71,
   "metadata": {},
   "outputs": [
    {
     "name": "stdout",
     "output_type": "stream",
     "text": [
      "Podaj liczbę: 0\n",
      "0\n"
     ]
    }
   ],
   "source": [
    "x = input(\"Podaj liczbę: \")\n",
    "print(int(fabs(x)))"
   ]
  },
  {
   "cell_type": "code",
   "execution_count": 83,
   "metadata": {},
   "outputs": [
    {
     "name": "stdout",
     "output_type": "stream",
     "text": [
      "sprawdze czy liczba jest z zakresu 1..10: 23\n",
      "x\n"
     ]
    }
   ],
   "source": [
    "wartosc = int(input(\"sprawdze czy liczba jest z zakresu 1..10: \"))\n",
    "if(wartosc > 1 and wartosc < 10):\n",
    "    print(\"Wartosc z zakresu 1..10\")\n",
    "\n",
    "a = 6\n",
    "b = 2\n",
    "if(a==5 or b==3):\n",
    "    print(\"tak\")\n",
    "    \n",
    "if(not(a==5 or b ==3)):\n",
    "    print(\"x\")"
   ]
  },
  {
   "cell_type": "code",
   "execution_count": 84,
   "metadata": {},
   "outputs": [
    {
     "data": {
      "text/plain": [
       "'PĘTLE'"
      ]
     },
     "execution_count": 84,
     "metadata": {},
     "output_type": "execute_result"
    }
   ],
   "source": [
    "'''PĘTLE'''"
   ]
  },
  {
   "cell_type": "code",
   "execution_count": null,
   "metadata": {},
   "outputs": [],
   "source": [
    "liczba = 0\n",
    "\n",
    "while liczba <= 150:\n",
    "    print(liczba)\n",
    "    liczba += 1"
   ]
  },
  {
   "cell_type": "code",
   "execution_count": null,
   "metadata": {},
   "outputs": [],
   "source": [
    "liczba = 0\n",
    "\n",
    "while liczba <= 150:\n",
    "    print(liczba)\n",
    "    liczba += 1"
   ]
  },
  {
   "cell_type": "code",
   "execution_count": null,
   "metadata": {},
   "outputs": [],
   "source": []
  }
 ],
 "metadata": {
  "kernelspec": {
   "display_name": "Python 3",
   "language": "python",
   "name": "python3"
  },
  "language_info": {
   "codemirror_mode": {
    "name": "ipython",
    "version": 3
   },
   "file_extension": ".py",
   "mimetype": "text/x-python",
   "name": "python",
   "nbconvert_exporter": "python",
   "pygments_lexer": "ipython3",
   "version": "3.7.4"
  }
 },
 "nbformat": 4,
 "nbformat_minor": 2
}
