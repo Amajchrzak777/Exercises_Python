{
 "cells": [
  {
   "cell_type": "code",
   "execution_count": 10,
   "metadata": {},
   "outputs": [
    {
     "name": "stdout",
     "output_type": "stream",
     "text": [
      "HEJ! Arku\n",
      "HEJ! Wiolu\n",
      "HEJ! Bartku\n"
     ]
    }
   ],
   "source": [
    "#FUNKCJA PODSTAWY\n",
    "\n",
    "def wiadomosc_powitalna(imie):\n",
    "    print(\"HEJ!\",imie)\n",
    "\n",
    "imiona = [\"Arku\", \"Wiolu\", \"Bartku\"]\n",
    "\n",
    "for imie in imiona:\n",
    "    wiadomosc_powitalna(imie)\n",
    "    \n"
   ]
  },
  {
   "cell_type": "code",
   "execution_count": 18,
   "metadata": {},
   "outputs": [
    {
     "name": "stdout",
     "output_type": "stream",
     "text": [
      "80\n"
     ]
    }
   ],
   "source": [
    "def poleProstokata(a, b):\n",
    "    return a * b\n",
    "\n",
    "print(5 * poleProstokata(2, 8))"
   ]
  },
  {
   "cell_type": "code",
   "execution_count": 21,
   "metadata": {},
   "outputs": [
    {
     "name": "stdout",
     "output_type": "stream",
     "text": [
      "2\n"
     ]
    }
   ],
   "source": [
    "def dzielenie(a,b):\n",
    "    if(b==0):\n",
    "        return \"Cholero nie dziel przez 0\"\n",
    "    return a/b\n",
    "    \n",
    "print(int(dzielenie(10,5)))"
   ]
  },
  {
   "cell_type": "code",
   "execution_count": null,
   "metadata": {},
   "outputs": [],
   "source": [
    "import math\n",
    "\n",
    "from enum import IntEnum\n",
    "\n",
    "Menu_Figury = IntEnum('Menu_Figury', 'Kwadrat Prostokąt Koło Trapez')\n",
    "\n",
    "def poleProstokata(a,b):\n",
    "    return a*b\n",
    "def poleKwadratu(a,x):\n",
    "    return a*x\n",
    "def poleTrojkata(a,h):\n",
    "    return a*h/2\n",
    "def poleTrapezu(a,b,h):\n",
    "    return a+b*h/2\n",
    "def poleKola(r):\n",
    "    return math.pi*pow(r,2)\n",
    "\n",
    "while(True):\n",
    "    print('Jeśli wybierzesz opcje 6 wyjdziesz z menu')\n",
    "    wybor = int(input(\"Wybierz opcje z menu od 1..6\"))\n",
    "    if(wybor== Menu_Figury.Prostokat):\n",
    "        print(poleProstokata(5,5))\n",
    "    elif(wybor==Menu_Figury.Kwadrat):\n",
    "        print(poleKwadratu(5,5))\n",
    "    elif(wybor==Menu_Figury.Trojkat):\n",
    "        print(poleTrojkata(5,5))\n",
    "    elif(wybor==Menu_Figury.Trapezu):\n",
    "        print(poleTrapezu(5,5,5))\n",
    "    elif(wybor==Menu_Figury.Kola):\n",
    "        print(poleKola(5))\n",
    "    elif(wybor==6):\n",
    "        break\n",
    "    else:\n",
    "        print(\"zła opcja cwaniaku\")\n",
    "        continue\n",
    "    "
   ]
  },
  {
   "cell_type": "code",
   "execution_count": null,
   "metadata": {},
   "outputs": [],
   "source": []
  },
  {
   "cell_type": "code",
   "execution_count": null,
   "metadata": {},
   "outputs": [],
   "source": []
  }
 ],
 "metadata": {
  "kernelspec": {
   "display_name": "Python 3",
   "language": "python",
   "name": "python3"
  }
 },
 "nbformat": 4,
 "nbformat_minor": 2
}
