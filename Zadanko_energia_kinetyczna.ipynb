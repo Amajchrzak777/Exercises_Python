{
 "cells": [
  {
   "cell_type": "code",
   "execution_count": 1,
   "metadata": {},
   "outputs": [
    {
     "name": "stdout",
     "output_type": "stream",
     "text": [
      "Hello\n"
     ]
    }
   ],
   "source": [
    "print(\"Hello\")"
   ]
  },
  {
   "cell_type": "code",
   "execution_count": null,
   "metadata": {},
   "outputs": [],
   "source": [
    "sum = 0\n",
    "\n",
    "\n",
    "m1 = float(input(\"wprowadź masę: \"))\n",
    "if m1>0:\n",
    "    pass\n",
    "elif m1<=0:\n",
    "    print(\"masa nie może być mniejsza niż 0\")\n",
    "    while True:\n",
    "        m1 = float(input(\"wprowadź masę: \"))\n",
    "        if m1>0:\n",
    "            break\n",
    "else:\n",
    "    pass\n",
    "\n",
    "for v in range(3):\n",
    "    print(\"współrzędna\", v+1)\n",
    "    v += 1\n",
    "    v = float(input(\"wprowadź prędkość cząstki wektora x: \"))\n",
    "    sum += 1/2*m1*v**2\n",
    "\n",
    "wynik = sum/3\n",
    "print(\"Energia kinetyczna wynosi: \", wynik,\"[J]\")"
   ]
  },
  {
   "cell_type": "code",
   "execution_count": null,
   "metadata": {},
   "outputs": [],
   "source": []
  },
  {
   "cell_type": "code",
   "execution_count": null,
   "metadata": {},
   "outputs": [],
   "source": []
  }
 ],
 "metadata": {
  "kernelspec": {
   "display_name": "Python 3",
   "language": "python",
   "name": "python3"
  },
  "language_info": {
   "codemirror_mode": {
    "name": "ipython",
    "version": 3
   },
   "file_extension": ".py",
   "mimetype": "text/x-python",
   "name": "python",
   "nbconvert_exporter": "python",
   "pygments_lexer": "ipython3",
   "version": "3.7.4"
  }
 },
 "nbformat": 4,
 "nbformat_minor": 2
}
