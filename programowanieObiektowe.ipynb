{
 "cells": [
  {
   "cell_type": "code",
   "execution_count": 13,
   "metadata": {
    "scrolled": true
   },
   "outputs": [
    {
     "name": "stdout",
     "output_type": "stream",
     "text": [
      "[<__main__.User object at 0x0000023D27132E88>, <__main__.User object at 0x0000023D27132108>]\n",
      "dodatkowy eteskt calkowicie inny wiek:  30 Arek\n",
      "dodatkowy tekst wiek:  24 Mirek\n"
     ]
    },
    {
     "data": {
      "text/plain": [
       "'\\ndef print_age(name, age):\\n    print(name, \"wiek: \",age)\\n\\n\\nprint_age(name, age)\\n'"
      ]
     },
     "execution_count": 13,
     "metadata": {},
     "output_type": "execute_result"
    }
   ],
   "source": [
    "'''\n",
    "\n",
    "Programowanie obiektowe\n",
    "\n",
    "OOP - Object Oriented Programming\n",
    "\n",
    "Obiekt\n",
    "\n",
    "Obiekty - to pojemniki do przechowywania zmiennych i funkcji tematycznie\n",
    "          ze sobą powiązanych do dalszego łatwiejszego ponownego użycia\n",
    "          \n",
    "Klasy - foremki (szablony) do tworzenia egzemplarzy obiektów\n",
    "\n",
    "Atrybut - cecha opisująca obiekt\n",
    "Metoda - funkcja, która operuje na obiekcie\n",
    "\n",
    "Instacja klasy - instance z ang. egzemplarz to obiekt, który wyszedł z formy(klasy)\n",
    "\n",
    "'''\n",
    "\n",
    "age = 450\n",
    "\n",
    "class User: #klasy z dużej litery !!!\n",
    "    age = 0\n",
    "    name = \"\"\n",
    "    def print_age(self, message):\n",
    "        print(message,\"wiek: \",self.age,self.name)\n",
    "\n",
    "    def another_method(self):\n",
    "        pass\n",
    "    \n",
    "    def another_method2(self, message, blablaa):\n",
    "        pass\n",
    "    \n",
    "    \n",
    "user1 = User()\n",
    "user2 = User()\n",
    "user3 = User()\n",
    "\n",
    "userList = [User(), User()]\n",
    "print(userList)\n",
    "\n",
    "userList[0].age = 20\n",
    "userList[1].age = 30\n",
    "userList[0].name = \"Janek\"\n",
    "userList[1].name = \"Stasiu\"\n",
    "user1.age = 30\n",
    "user1.name = \"Arek\"\n",
    "user1.print_age(\"dodatkowy eteskt calkowicie inny\")\n",
    "\n",
    "user2.age = 24\n",
    "user2.name = \"Mirek\"\n",
    "user2.print_age(\"dodatkowy tekst\")\n",
    "\n",
    "\"\"\" \n",
    "def print_age(name, age):\n",
    "    print(name, \"wiek: \",age)\n",
    "\n",
    "\n",
    "print_age(name, age)\n",
    "\"\"\""
   ]
  },
  {
   "cell_type": "code",
   "execution_count": 29,
   "metadata": {},
   "outputs": [
    {
     "name": "stdout",
     "output_type": "stream",
     "text": [
      "jestem inicjalizatorem, ktory wywoluje się zawsze podczas konstrukcji obiektu\n",
      "jestem inicjalizatorem, ktory wywoluje się zawsze podczas konstrukcji obiektu\n",
      "dodatkowy eteskt calkowicie inny wiek:  30 Arek\n",
      "dodatkowy tekst wiek:  24 Mirek\n",
      "31\n"
     ]
    }
   ],
   "source": [
    "class User:\n",
    "    age = 0\n",
    "    name = \"\"\n",
    "    def __init__(self, age, name):\n",
    "        print(\"jestem inicjalizatorem, ktory wywoluje się zawsze podczas konstrukcji obiektu\")\n",
    "        \n",
    "        self.age = age\n",
    "        self.name = name\n",
    "        self.ageInFuture = age + 1\n",
    "    def print_age(self,message):\n",
    "        print(message, \"wiek: \",self.age, self.name)\n",
    "     \n",
    "user1 = User(30, \"Arek\")\n",
    "user2 = User(24, \"Mirek\")\n",
    "    \n",
    "user1.print_age(\"dodatkowy eteskt calkowicie inny\")\n",
    "\n",
    "user2.print_age(\"dodatkowy tekst\")\n",
    "\n",
    "print(user1.ageInFuture)"
   ]
  },
  {
   "cell_type": "code",
   "execution_count": 33,
   "metadata": {},
   "outputs": [
    {
     "name": "stdout",
     "output_type": "stream",
     "text": [
      "[<__main__.Rocket object at 0x0000023D28122F48>, <__main__.Rocket object at 0x0000023D28142EC8>, <__main__.Rocket object at 0x0000023D28142948>, <__main__.Rocket object at 0x0000023D28142F88>, <__main__.Rocket object at 0x0000023D28142CC8>]\n",
      "2\n",
      "3\n",
      "0\n",
      "3\n",
      "4\n",
      "1\n",
      "2\n",
      "4\n",
      "3\n",
      "1\n",
      "1\n",
      "2\n",
      "2\n",
      "3\n",
      "2\n"
     ]
    }
   ],
   "source": [
    "from random import randint\n",
    "\n",
    "class Rocket:\n",
    "    def __init__(self):\n",
    "        self.altitude = 0\n",
    "        self.speed = 4\n",
    "    def moveUp(self):\n",
    "        self.altitude += 1\n",
    "        \n",
    "rockets = [Rocket() for _ in range(5)]\n",
    "\n",
    "print(rockets)\n",
    "\n",
    "for _ in range(10):\n",
    "    rockertIndexToMove = randint(0, 4)\n",
    "    print(rockertIndexToMove)\n",
    "    rockets[rockertIndexToMove].moveUp()\n",
    "\n",
    "for rocket in rockets:\n",
    "    print(rocket.altitude)"
   ]
  },
  {
   "cell_type": "code",
   "execution_count": null,
   "metadata": {},
   "outputs": [],
   "source": []
  }
 ],
 "metadata": {
  "kernelspec": {
   "display_name": "Python 3",
   "language": "python",
   "name": "python3"
  },
  "language_info": {
   "codemirror_mode": {
    "name": "ipython",
    "version": 3
   },
   "file_extension": ".py",
   "mimetype": "text/x-python",
   "name": "python",
   "nbconvert_exporter": "python",
   "pygments_lexer": "ipython3",
   "version": "3.7.4"
  }
 },
 "nbformat": 4,
 "nbformat_minor": 2
}
